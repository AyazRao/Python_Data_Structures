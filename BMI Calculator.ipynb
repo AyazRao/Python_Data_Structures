{
 "cells": [
  {
   "cell_type": "code",
   "execution_count": 1,
   "id": "2bc78d36",
   "metadata": {},
   "outputs": [
    {
     "name": "stdout",
     "output_type": "stream",
     "text": [
      "what is your height(m)? 5.9\n"
     ]
    }
   ],
   "source": [
    "height = input(\"what is your height(m)? \")"
   ]
  },
  {
   "cell_type": "code",
   "execution_count": 2,
   "id": "2c3d0992",
   "metadata": {},
   "outputs": [
    {
     "name": "stdout",
     "output_type": "stream",
     "text": [
      "what is your weight(kg)? 70\n"
     ]
    }
   ],
   "source": [
    "weight = input(\"what is your weight(kg)? \")"
   ]
  },
  {
   "cell_type": "code",
   "execution_count": 3,
   "id": "4b61b6e6",
   "metadata": {},
   "outputs": [
    {
     "name": "stdout",
     "output_type": "stream",
     "text": [
      "What is your name? Ayaz\n"
     ]
    }
   ],
   "source": [
    "name = input(\"What is your name? \")"
   ]
  },
  {
   "cell_type": "code",
   "execution_count": 12,
   "id": "9aad6805",
   "metadata": {
    "scrolled": true
   },
   "outputs": [],
   "source": [
    "BMI = float(weight)/ (float(height)**2)"
   ]
  },
  {
   "cell_type": "code",
   "execution_count": 18,
   "id": "1143ded2",
   "metadata": {
    "scrolled": true
   },
   "outputs": [
    {
     "name": "stdout",
     "output_type": "stream",
     "text": [
      "Ayaz your bmi is  2.0109164033323754\n"
     ]
    }
   ],
   "source": [
    "print(name, \"your bmi is \" ,float(BMI))"
   ]
  }
 ],
 "metadata": {
  "kernelspec": {
   "display_name": "Python 3",
   "language": "python",
   "name": "python3"
  },
  "language_info": {
   "codemirror_mode": {
    "name": "ipython",
    "version": 3
   },
   "file_extension": ".py",
   "mimetype": "text/x-python",
   "name": "python",
   "nbconvert_exporter": "python",
   "pygments_lexer": "ipython3",
   "version": "3.8.8"
  }
 },
 "nbformat": 4,
 "nbformat_minor": 5
}
