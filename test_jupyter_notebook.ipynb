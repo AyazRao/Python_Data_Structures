{
 "cells": [
  {
   "cell_type": "markdown",
   "id": "b06d0f86",
   "metadata": {},
   "source": [
    "# Learning Python\n",
    "## How to use jupyter notebook\n",
    "### Basics of python\n",
    "\n",
    "### 01- My first program"
   ]
  },
  {
   "cell_type": "code",
   "execution_count": 1,
   "id": "e8ffb71c",
   "metadata": {
    "scrolled": true
   },
   "outputs": [
    {
     "name": "stdout",
     "output_type": "stream",
     "text": [
      "5\n",
      "hello, my name is Ayaz\n"
     ]
    }
   ],
   "source": [
    "print(2+3)\n",
    "print(\"hello, my name is Ayaz\")"
   ]
  },
  {
   "cell_type": "markdown",
   "id": "5f77c179",
   "metadata": {},
   "source": [
    "### **02-second_program**"
   ]
  },
  {
   "cell_type": "code",
   "execution_count": 2,
   "id": "557cf6cf",
   "metadata": {},
   "outputs": [
    {
     "name": "stdout",
     "output_type": "stream",
     "text": [
      "3\n",
      "2\n",
      "3.0\n",
      "6\n",
      "1\n",
      "3\n",
      "8\n"
     ]
    }
   ],
   "source": [
    "print(2+1)\n",
    "print(3-1)\n",
    "print(6/2)\n",
    "print(2*3)\n",
    "print(13 % 2)\n",
    "print(6//2)\n",
    "print(2**3)"
   ]
  },
  {
   "cell_type": "markdown",
   "id": "f37261b7",
   "metadata": {},
   "source": [
    "*PEMDAS*\n",
    "\n",
    "*parenthesis exponent multiplication division addition substraction*\n",
    "\n",
    "*left to right sequence for  M D and A S *"
   ]
  },
  {
   "cell_type": "markdown",
   "id": "76ee4912",
   "metadata": {},
   "source": [
    "### **03-strings**"
   ]
  },
  {
   "cell_type": "code",
   "execution_count": 3,
   "id": "3e8d50d4",
   "metadata": {
    "scrolled": true
   },
   "outputs": [
    {
     "name": "stdout",
     "output_type": "stream",
     "text": [
      "5\n",
      "hello, my name is Ayaz\n",
      "test for single quotes\n",
      "test for double quotes\n",
      "test for triple quotes\n",
      "what's up   ?\n"
     ]
    }
   ],
   "source": [
    "print(2+3)\n",
    "print(\"hello, my name is Ayaz\")\n",
    "print('test for single quotes')\n",
    "print(\"test for double quotes\")\n",
    "print('''test for triple quotes''')\n",
    "print(\"what's up   ?\")"
   ]
  },
  {
   "cell_type": "markdown",
   "id": "f46f6fff",
   "metadata": {},
   "source": [
    "### **04-comments**\n",
    "the shortcut key to comment is **Ctrl+/**"
   ]
  },
  {
   "cell_type": "code",
   "execution_count": 4,
   "id": "09ccd52e",
   "metadata": {},
   "outputs": [
    {
     "name": "stdout",
     "output_type": "stream",
     "text": [
      "hello, my name is Ayaz\n"
     ]
    }
   ],
   "source": [
    "# print(2+3)\n",
    "print(\"hello, my name is Ayaz\")\n"
   ]
  }
 ],
 "metadata": {
  "kernelspec": {
   "display_name": "Python 3",
   "language": "python",
   "name": "python3"
  },
  "language_info": {
   "codemirror_mode": {
    "name": "ipython",
    "version": 3
   },
   "file_extension": ".py",
   "mimetype": "text/x-python",
   "name": "python",
   "nbconvert_exporter": "python",
   "pygments_lexer": "ipython3",
   "version": "3.8.8"
  }
 },
 "nbformat": 4,
 "nbformat_minor": 5
}
